{
 "cells": [
  {
   "cell_type": "code",
   "execution_count": null,
   "id": "1f3a8e19",
   "metadata": {},
   "outputs": [],
   "source": [
    "fname = \"Into the Depths Super Mario World - Part 4.txt\"\n",
    "start_line = 'EVENT_OBJECT_NAMECHANGE on class=AXVirtualView role=ROLE_SYSTEM_STATICTEXT name=\"'\n",
    "start_line_len = len(start_line)\n",
    "end_line = '\"\\n'"
   ]
  },
  {
   "cell_type": "code",
   "execution_count": null,
   "id": "fd26c6aa",
   "metadata": {},
   "outputs": [],
   "source": [
    "import string\n",
    "import Levenshtein\n",
    "\n",
    "punctuation_trans = str.maketrans('', '', string.punctuation)\n",
    "MAX_LEVENSTEIN = 16\n",
    "\n",
    "with open(fname, \"rt\") as f:\n",
    "    lines = f.readlines()\n",
    "    \n",
    "subtitles = [\"\"] * 16\n",
    "\n",
    "def clean_string(s):\n",
    "    return s.translate(punctuation_trans).strip().lower()\n",
    "\n",
    "def find_max_overlap(str1, str2):\n",
    "    source_str1 = str1\n",
    "    source_str2 = str2\n",
    "    str1 = clean_string(str1)\n",
    "    str2 = clean_string(str2)\n",
    "    \n",
    "    MIN_OVERLAP = 2\n",
    "    max_overlap = 0\n",
    "    overlap_str = \"\"\n",
    "    for i in range(len(str1)):\n",
    "        suffix = str1[i:]\n",
    "        prefix = str2[:len(suffix)]\n",
    "        if suffix == prefix:\n",
    "            max_overlap = len(suffix)\n",
    "            overlap_str = suffix\n",
    "    return source_str1 + str2[max_overlap:] if max_overlap >= MIN_OVERLAP else None\n",
    "    \n",
    "BACKTRACK = 16\n",
    "\n",
    "for line in lines:\n",
    "    start_index = line.find(start_line)\n",
    "    if start_index != -1:\n",
    "        end_index = line.rfind(end_line)\n",
    "        if end_index != -1:\n",
    "            current_line = line[start_line_len:end_index]\n",
    "            curLen = len(subtitles)\n",
    "            lineLen = len(current_line)\n",
    "            replaced = False\n",
    "            for x in range(BACKTRACK):\n",
    "                prevLine = subtitles[-BACKTRACK+x]\n",
    "                prevLineLen = len(prevLine)\n",
    "                if lineLen <= MAX_LEVENSTEIN:\n",
    "                    if current_line[:prevLineLen] == prevLine:\n",
    "                        subtitles[-BACKTRACK+x] = current_line\n",
    "                        replaced = True\n",
    "                        break \n",
    "                else:\n",
    "                    if Levenshtein.distance(current_line[:prevLineLen], prevLine) < MAX_LEVENSTEIN:\n",
    "                        subtitles[-BACKTRACK+x] = current_line\n",
    "                        replaced = True\n",
    "                        break\n",
    "            if not replaced:\n",
    "                subtitles.append(current_line)\n",
    "    \n",
    "#clean forward repeats\n",
    "subtitles_filtered = subtitles[:BACKTRACK]\n",
    "curLen = len(subtitles)\n",
    "for x in range(curLen-BACKTRACK):\n",
    "    foundSubstr = False\n",
    "    for y in range(1, BACKTRACK):\n",
    "        if subtitles[x+BACKTRACK-y].find(subtitles[x+BACKTRACK]) != -1:\n",
    "            foundSubstr = True\n",
    "            break\n",
    "    if not foundSubstr:\n",
    "        subtitles_filtered.append(subtitles[x+BACKTRACK])"
   ]
  },
  {
   "cell_type": "code",
   "execution_count": null,
   "id": "3c889f01",
   "metadata": {},
   "outputs": [],
   "source": [
    "print(f\"Length: {len(subtitles_filtered)}\")\n",
    "for x in range(len(subtitles_filtered)):\n",
    "    print(f\"{x}: {subtitles_filtered[x]}\")"
   ]
  }
 ],
 "metadata": {
  "kernelspec": {
   "display_name": "Python 3 (ipykernel)",
   "language": "python",
   "name": "python3"
  },
  "language_info": {
   "codemirror_mode": {
    "name": "ipython",
    "version": 3
   },
   "file_extension": ".py",
   "mimetype": "text/x-python",
   "name": "python",
   "nbconvert_exporter": "python",
   "pygments_lexer": "ipython3",
   "version": "3.10.5"
  }
 },
 "nbformat": 4,
 "nbformat_minor": 5
}
