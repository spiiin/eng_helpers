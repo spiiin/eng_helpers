{
 "cells": [
  {
   "cell_type": "code",
   "execution_count": null,
   "id": "2d473f0c",
   "metadata": {},
   "outputs": [],
   "source": [
    "!pip install pywin32"
   ]
  },
  {
   "cell_type": "code",
   "execution_count": null,
   "id": "9db91b8a",
   "metadata": {},
   "outputs": [],
   "source": [
    "import time\n",
    "import win32gui\n",
    "import win32con\n",
    "import win32api\n",
    "\n",
    "# Название окна, в которое вы хотите отправить клавиши\n",
    "window_title = \"Subtitler (lite) mod\"\n",
    "\n",
    "# Функция для поиска окна по заголовку\n",
    "def find_window(title):\n",
    "    return win32gui.FindWindow(None, title)\n",
    "\n",
    "# Функция для отправки клавиш в окно\n",
    "def send_keys(hwnd, keys):\n",
    "    for key in keys:\n",
    "        win32api.SendMessage(hwnd, win32con.WM_KEYDOWN, key, 0)\n",
    "        time.sleep(0.1)  # небольшая задержка между нажатиями\n",
    "        win32api.SendMessage(hwnd, win32con.WM_KEYUP, key, 0)\n",
    "\n",
    "# Найти окно по заголовку\n",
    "hwnd = find_window(window_title)\n",
    "\n",
    "if hwnd != 0:\n",
    "    print(f\"Окно '{window_title}' найдено, hwnd: {hwnd}\")\n",
    "    #win32gui.SetForegroundWindow(hwnd)\n",
    "    while True:\n",
    "        send_keys(hwnd, [win32con.VK_RETURN])\n",
    "else:\n",
    "    print(f\"Окно '{window_title}' не найдено.\")"
   ]
  },
  {
   "cell_type": "code",
   "execution_count": null,
   "id": "a0d40e3e",
   "metadata": {},
   "outputs": [],
   "source": []
  }
 ],
 "metadata": {
  "kernelspec": {
   "display_name": "Python 3 (ipykernel)",
   "language": "python",
   "name": "python3"
  },
  "language_info": {
   "codemirror_mode": {
    "name": "ipython",
    "version": 3
   },
   "file_extension": ".py",
   "mimetype": "text/x-python",
   "name": "python",
   "nbconvert_exporter": "python",
   "pygments_lexer": "ipython3",
   "version": "3.10.5"
  }
 },
 "nbformat": 4,
 "nbformat_minor": 5
}
